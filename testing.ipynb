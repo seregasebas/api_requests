{
 "cells": [
  {
   "cell_type": "code",
   "execution_count": 2,
   "metadata": {},
   "outputs": [
    {
     "name": "stdout",
     "output_type": "stream",
     "text": [
      "количество страниц: 4\n",
      "количество tiks на странице: 20\n",
      "количество найденных вакансий: 79\n",
      "страница номер: 1\n",
      "страница номер: 2\n",
      "страница номер: 3\n",
      "страница номер: 4\n"
     ]
    }
   ],
   "source": [
    "import requests\n",
    "import pprint\n",
    "import json\n",
    "'''\n",
    "!ID - id вакансии (восклицательный знак обязателен)\n",
    "NAME - название вакансии\n",
    "!COMPANY_ID - id компании (восклицательный знак обязателен)\n",
    "COMPANY_NAME - название компании\n",
    "DESCRIPTION - описание вакансии\n",
    "'''\n",
    "\n",
    "url = 'https://api.hh.ru/vacancies'\n",
    "\n",
    "vacancy = 'строитель'\n",
    "city = 1\n",
    "\n",
    "params = {\n",
    "    'text': f'NAME:({vacancy})', #AND COMPANY_NAME:(1 OR 2 OR YANDEX) AND (DJANGO OR SPRING)\n",
    "    'area': city,                #Город\n",
    "}\n",
    "\n",
    "# result = requests.get(url, params=params)\n",
    "\n",
    "#Записываем количество страниц с найденной инфой\n",
    "pages = requests.get(url, params=params).json()['pages']\n",
    "num = requests.get(url, params=params).json()['per_page']\n",
    "found_vacations = requests.get(url, params=params).json()['found']\n",
    "print(f'количество страниц: {pages}')\n",
    "print(f'количество tiks на странице: {num}')\n",
    "print(f'количество найденных вакансий: {found_vacations}')\n",
    "# print(result.status_code)\n",
    "# pprint.pprint(result.text)\n",
    "# pprint.pprint(result.content)\n",
    "\n",
    "#Переберем все страницы с нужными нам параметрами и запишем в список\n",
    "res_all = []\n",
    "for page in range(pages):\n",
    "    print(f'страница номер: {page+1}')\n",
    "    params = {\n",
    "        'text': f'NAME:({vacancy})', #AND COMPANY_NAME:(1 OR 2 OR YANDEX) AND (DJANGO OR SPRING)\n",
    "        'area': city,                #Город\n",
    "        'page': page,                   #индекс страницы\n",
    "        # 'per_page': 50               #кол-во вакансий на 1 стр\n",
    "        }\n",
    "    res_all.append(requests.get(url, params=params).json())\n",
    "# # Короче их тут получается 82 вакансии, но разбито на 5 списков 4 по 20 и 1 - 2\n",
    "\n",
    "# for i in range(res_all[0]['found']):\n",
    "#     if res_all[0]['items'][i]['salary'] != None:\n",
    "#         print(res_all[0]['items'][i]['salary']['from'])\n",
    "\n",
    "\n",
    "\n",
    "# #Вытаскиваем ЗП\n",
    "# print(a['items'][0]['salary']['from'])\n",
    "# print(a['items'][0]['salary']['to'])\n",
    "\n"
   ]
  },
  {
   "cell_type": "code",
   "execution_count": 26,
   "metadata": {},
   "outputs": [
    {
     "data": {
      "text/plain": [
       "{' ключ': 195, ' опыт': 134, 'tron': 4, 'труба': 5}"
      ]
     },
     "execution_count": 26,
     "metadata": {},
     "output_type": "execute_result"
    }
   ],
   "source": [
    "a = {'труба': 5, ' опыт': 134, ' ключ': 195, 'tron': 4}\n",
    "a = sorted(a.items(), key = lambda x: x[:-1])\n",
    "dict(a)"
   ]
  },
  {
   "cell_type": "code",
   "execution_count": 46,
   "metadata": {},
   "outputs": [
    {
     "data": {
      "text/plain": [
       "{'id': '66600947',\n",
       " 'premium': False,\n",
       " 'name': 'Сметчик-строитель',\n",
       " 'department': None,\n",
       " 'has_test': False,\n",
       " 'response_letter_required': False,\n",
       " 'area': {'id': '1', 'name': 'Москва', 'url': 'https://api.hh.ru/areas/1'},\n",
       " 'salary': {'from': 120000, 'to': 150000, 'currency': 'RUR', 'gross': False},\n",
       " 'type': {'id': 'open', 'name': 'Открытая'},\n",
       " 'address': None,\n",
       " 'response_url': None,\n",
       " 'sort_point_distance': None,\n",
       " 'published_at': '2022-06-11T18:36:51+0300',\n",
       " 'created_at': '2022-06-11T18:36:51+0300',\n",
       " 'archived': False,\n",
       " 'apply_alternate_url': 'https://hh.ru/applicant/vacancy_response?vacancyId=66600947',\n",
       " 'insider_interview': None,\n",
       " 'url': 'https://api.hh.ru/vacancies/66600947?host=hh.ru',\n",
       " 'adv_response_url': 'https://api.hh.ru/vacancies/66600947/adv_response?host=hh.ru',\n",
       " 'alternate_url': 'https://hh.ru/vacancy/66600947',\n",
       " 'relations': [],\n",
       " 'employer': {'id': '5449580',\n",
       "  'name': 'URBAN RETAIL GROUP',\n",
       "  'url': 'https://api.hh.ru/employers/5449580',\n",
       "  'alternate_url': 'https://hh.ru/employer/5449580',\n",
       "  'logo_urls': {'90': 'https://hhcdn.ru/employer-logo/3873783.jpeg',\n",
       "   '240': 'https://hhcdn.ru/employer-logo/3873784.jpeg',\n",
       "   'original': 'https://hhcdn.ru/employer-logo-original/858226.jpg'},\n",
       "  'vacancies_url': 'https://api.hh.ru/vacancies?employer_id=5449580',\n",
       "  'trusted': True},\n",
       " 'snippet': {'requirement': 'Опыт работы в аналогичной отрасли от трех лет. Знание английского языка на уровне не ниже Intermediate. Опыт работы в программном...',\n",
       "  'responsibility': 'Анализ технического задания. Проверка и анализ проектной документации. Составление и согласование сметной документации на строительно-монтажные, ремонтые работы. '},\n",
       " 'contacts': None,\n",
       " 'schedule': {'id': 'flexible', 'name': 'Гибкий график'},\n",
       " 'working_days': [],\n",
       " 'working_time_intervals': [],\n",
       " 'working_time_modes': [],\n",
       " 'accept_temporary': True}"
      ]
     },
     "execution_count": 46,
     "metadata": {},
     "output_type": "execute_result"
    }
   ],
   "source": [
    "res_all[0]['items'][0]"
   ]
  },
  {
   "cell_type": "code",
   "execution_count": 15,
   "metadata": {},
   "outputs": [
    {
     "name": "stdout",
     "output_type": "stream",
     "text": [
      "id - 66600947\n",
      "premium - False\n",
      "name - Сметчик-строитель\n",
      "department - None\n",
      "has_test - False\n",
      "response_letter_required - False\n",
      "area - {'id': '1', 'name': 'Москва', 'url': 'https://api.hh.ru/areas/1'}\n",
      "salary - {'from': 120000, 'to': 150000, 'currency': 'RUR', 'gross': False}\n",
      "type - {'id': 'open', 'name': 'Открытая'}\n",
      "address - None\n",
      "response_url - None\n",
      "sort_point_distance - None\n",
      "published_at - 2022-06-11T18:36:51+0300\n",
      "created_at - 2022-06-11T18:36:51+0300\n",
      "archived - False\n",
      "apply_alternate_url - https://hh.ru/applicant/vacancy_response?vacancyId=66600947\n",
      "insider_interview - None\n",
      "url - https://api.hh.ru/vacancies/66600947?host=hh.ru\n",
      "adv_response_url - https://api.hh.ru/vacancies/66600947/adv_response?host=hh.ru\n",
      "alternate_url - https://hh.ru/vacancy/66600947\n",
      "relations - []\n",
      "employer - {'id': '5449580', 'name': 'URBAN RETAIL GROUP', 'url': 'https://api.hh.ru/employers/5449580', 'alternate_url': 'https://hh.ru/employer/5449580', 'logo_urls': {'90': 'https://hhcdn.ru/employer-logo/3873783.jpeg', '240': 'https://hhcdn.ru/employer-logo/3873784.jpeg', 'original': 'https://hhcdn.ru/employer-logo-original/858226.jpg'}, 'vacancies_url': 'https://api.hh.ru/vacancies?employer_id=5449580', 'trusted': True}\n",
      "snippet - {'requirement': 'Опыт работы в аналогичной отрасли от трех лет. Знание английского языка на уровне не ниже Intermediate. Опыт работы в программном...', 'responsibility': 'Анализ технического задания. Проверка и анализ проектной документации. Составление и согласование сметной документации на строительно-монтажные, ремонтые работы. '}\n",
      "contacts - None\n",
      "schedule - {'id': 'flexible', 'name': 'Гибкий график'}\n",
      "working_days - []\n",
      "working_time_intervals - []\n",
      "working_time_modes - []\n",
      "accept_temporary - True\n"
     ]
    }
   ],
   "source": [
    "for i in res_all[0]['items'][0].keys():\n",
    "    print(f'{i} - {res_all[0][\"items\"][0][i]}')"
   ]
  },
  {
   "cell_type": "code",
   "execution_count": 16,
   "metadata": {},
   "outputs": [
    {
     "data": {
      "text/plain": [
       "{'requirement': 'Опыт работы в аналогичной отрасли от трех лет. Знание английского языка на уровне не ниже Intermediate. Опыт работы в программном...',\n",
       " 'responsibility': 'Анализ технического задания. Проверка и анализ проектной документации. Составление и согласование сметной документации на строительно-монтажные, ремонтые работы. '}"
      ]
     },
     "execution_count": 16,
     "metadata": {},
     "output_type": "execute_result"
    }
   ],
   "source": [
    "res_all[0]['items'][0]['snippet']"
   ]
  },
  {
   "cell_type": "code",
   "execution_count": 3,
   "metadata": {},
   "outputs": [],
   "source": [
    "requirement = []\n",
    "for i in range(len(res_all)):\n",
    "    for e in range(len(res_all[i]['items'])):\n",
    "        requirement.append(res_all[i]['items'][e]['snippet']['requirement'])\n"
   ]
  },
  {
   "cell_type": "code",
   "execution_count": 12,
   "metadata": {},
   "outputs": [],
   "source": [
    "keywords = 'Word,Excel,5'"
   ]
  },
  {
   "cell_type": "code",
   "execution_count": 13,
   "metadata": {},
   "outputs": [],
   "source": [
    "def requirement_count(requirement, keywords):\n",
    "    word = keywords.split(',')\n",
    "    total = 0\n",
    "    dict_word = {}\n",
    "    for i in word:\n",
    "        for req in range(len(requirement)):\n",
    "            if requirement[req] != None:\n",
    "                if i.lower() in requirement[req].lower():\n",
    "                    total += 1\n",
    "        dict_word[i] = total\n",
    "    return dict_word"
   ]
  },
  {
   "cell_type": "code",
   "execution_count": 14,
   "metadata": {},
   "outputs": [],
   "source": [
    "a = requirement_count(requirement, keywords)"
   ]
  },
  {
   "cell_type": "code",
   "execution_count": 15,
   "metadata": {},
   "outputs": [
    {
     "data": {
      "text/plain": [
       "{'Word': 3, 'Excel': 6, '5': 14}"
      ]
     },
     "execution_count": 15,
     "metadata": {},
     "output_type": "execute_result"
    }
   ],
   "source": [
    "a"
   ]
  },
  {
   "cell_type": "code",
   "execution_count": 72,
   "metadata": {},
   "outputs": [],
   "source": [
    "a = requests.get('https://api.hh.ru/areas/').json()"
   ]
  },
  {
   "cell_type": "code",
   "execution_count": 94,
   "metadata": {},
   "outputs": [],
   "source": [
    "id_name = {}\n",
    "for i in range(len(a)):\n",
    "    for e in range(len(a[i]['areas'])):\n",
    "        id_name[a[i]['areas'][e]['name']] = a[i]['areas'][e]['id']"
   ]
  },
  {
   "cell_type": "code",
   "execution_count": null,
   "metadata": {},
   "outputs": [],
   "source": []
  },
  {
   "cell_type": "code",
   "execution_count": 108,
   "metadata": {},
   "outputs": [
    {
     "data": {
      "text/plain": [
       "False"
      ]
     },
     "execution_count": 108,
     "metadata": {},
     "output_type": "execute_result"
    }
   ],
   "source": [
    "'иркутск' in id_name.values()"
   ]
  }
 ],
 "metadata": {
  "kernelspec": {
   "display_name": "Python 3.9.6 64-bit",
   "language": "python",
   "name": "python3"
  },
  "language_info": {
   "codemirror_mode": {
    "name": "ipython",
    "version": 3
   },
   "file_extension": ".py",
   "mimetype": "text/x-python",
   "name": "python",
   "nbconvert_exporter": "python",
   "pygments_lexer": "ipython3",
   "version": "3.9.6"
  },
  "orig_nbformat": 4,
  "vscode": {
   "interpreter": {
    "hash": "bf2c21991faa3c0498a1db9ce1ffda199a7edc69f1a6dec698f203c692919809"
   }
  }
 },
 "nbformat": 4,
 "nbformat_minor": 2
}
